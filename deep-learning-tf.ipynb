{
  "nbformat": 4,
  "nbformat_minor": 0,
  "metadata": {
    "colab": {
      "name": "project4.ipynb",
      "provenance": []
    },
    "kernelspec": {
      "name": "python3",
      "display_name": "Python 3"
    },
    "language_info": {
      "name": "python"
    },
    "accelerator": "GPU"
  },
  "cells": [
    {
      "cell_type": "code",
      "source": [
        "from google.colab import drive\n",
        "drive.mount('/content/drive')"
      ],
      "metadata": {
        "colab": {
          "base_uri": "https://localhost:8080/"
        },
        "id": "wZH9gzDhxgyW",
        "outputId": "be40305f-749b-40a9-f8a2-650787ca4092"
      },
      "execution_count": 2,
      "outputs": [
        {
          "output_type": "stream",
          "name": "stdout",
          "text": [
            "Mounted at /content/drive\n"
          ]
        }
      ]
    },
    {
      "cell_type": "code",
      "execution_count": 3,
      "metadata": {
        "id": "VzJE2C_kr3AK"
      },
      "outputs": [],
      "source": [
        "import os\n",
        "import zipfile\n",
        "\n",
        "local_zip = '/content/drive/MyDrive/Colab Notebooks/imagedb_btsd.zip'\n",
        "zip_ref = zipfile.ZipFile(local_zip, 'r')\n",
        "zip_ref.extractall('/content')\n",
        "zip_ref.close()"
      ]
    },
    {
      "cell_type": "code",
      "source": [
        "base_dir = '/content/imagedb_btsd.zip'\n",
        "\n",
        "train_dir = os.path.join(base_dir, 'imagedb')\n",
        "validation_dir = os.path.join(base_dir, 'imagedb_test')"
      ],
      "metadata": {
        "id": "ypP9zNey2XH1"
      },
      "execution_count": 4,
      "outputs": []
    },
    {
      "cell_type": "code",
      "source": [
        "import tensorflow as tf\n",
        "\n",
        "model = tf.keras.models.Sequential([\n",
        "  #This layer creates a convolution kernel that is convolved \n",
        "  #with the layer inputo produce a tensor of outputs.\n",
        "  tf.keras.layers.Conv2D(16, (5, 5), strides=(1, 1), activation='relu', input_shape=(28, 28, 1)),\n",
        "  tf.keras.layers.Dropout(0.25),\n",
        "  tf.keras.layers.MaxPooling2D(pool_size=(2, 2), strides=(2, 2)),\n",
        "  tf.keras.layers.Flatten(),\n",
        "  tf.keras.layers.Dense(100, activation='relu'),\n",
        "  #34 classes in dataset\n",
        "  tf.keras.layers.Dense(34, activation='softmax')\n",
        "])\n",
        "\n",
        "model.compile(optimizer = tf.keras.optimizers.RMSprop(),\n",
        "              loss = 'categorical_crossentropy',\n",
        "              metrics=['accuracy'])\n",
        "\n",
        "model.summary()"
      ],
      "metadata": {
        "colab": {
          "base_uri": "https://localhost:8080/"
        },
        "id": "-_Ug5dk_2mTR",
        "outputId": "b39eed9e-2264-4e73-d28c-6180eb9db6dc"
      },
      "execution_count": 16,
      "outputs": [
        {
          "output_type": "stream",
          "name": "stdout",
          "text": [
            "Model: \"sequential_7\"\n",
            "_________________________________________________________________\n",
            " Layer (type)                Output Shape              Param #   \n",
            "=================================================================\n",
            " conv2d_7 (Conv2D)           (None, 24, 24, 16)        416       \n",
            "                                                                 \n",
            " dropout (Dropout)           (None, 24, 24, 16)        0         \n",
            "                                                                 \n",
            " max_pooling2d_7 (MaxPooling  (None, 12, 12, 16)       0         \n",
            " 2D)                                                             \n",
            "                                                                 \n",
            " flatten_7 (Flatten)         (None, 2304)              0         \n",
            "                                                                 \n",
            " dense_14 (Dense)            (None, 100)               230500    \n",
            "                                                                 \n",
            " dense_15 (Dense)            (None, 34)                3434      \n",
            "                                                                 \n",
            "=================================================================\n",
            "Total params: 234,350\n",
            "Trainable params: 234,350\n",
            "Non-trainable params: 0\n",
            "_________________________________________________________________\n"
          ]
        }
      ]
    },
    {
      "cell_type": "code",
      "source": [
        "from tensorflow.keras.preprocessing.image import ImageDataGenerator\n",
        "\n",
        "train_datagen = ImageDataGenerator()\n",
        "test_datagen  = ImageDataGenerator()\n",
        "\n",
        "\n",
        "train_generator = train_datagen.flow_from_directory(train_dir,\n",
        "                                                    batch_size=100,\n",
        "                                                    class_mode='categorical',\n",
        "                                                    color_mode='grayscale',\n",
        "                                                    target_size=(28,28))     \n",
        "\n",
        "validation_generator =  test_datagen.flow_from_directory(validation_dir,\n",
        "                                                         batch_size=100,\n",
        "                                                         class_mode  = 'categorical',\n",
        "                                                         color_mode='grayscale',\n",
        "                                                         target_size=(28,28))"
      ],
      "metadata": {
        "colab": {
          "base_uri": "https://localhost:8080/"
        },
        "id": "2kydVc5n2x4B",
        "outputId": "32e95149-ff17-49d6-8fe5-fdcd21d71551"
      },
      "execution_count": 27,
      "outputs": [
        {
          "output_type": "stream",
          "name": "stdout",
          "text": [
            "Found 3056 images belonging to 34 classes.\n",
            "Found 2149 images belonging to 34 classes.\n"
          ]
        }
      ]
    },
    {
      "cell_type": "code",
      "source": [
        "import datetime\n",
        "\n",
        "callbacks = []\n",
        "\n",
        "logdir = os.path.join(\"/content/logs\", datetime.datetime.now().strftime(\"%Y%m%d-%H%M%S\"))\n",
        "tensorboard_callback = tf.keras.callbacks.TensorBoard(logdir, histogram_freq=1)\n",
        "callbacks.append(tensorboard_callback)\n",
        "\n",
        "save_best_callback = tf.keras.callbacks.ModelCheckpoint(f'best_weights.hdf5', save_best_only=True, verbose=1)\n",
        "callbacks.append(save_best_callback)\n",
        "\n",
        "early_stop_callback = tf.keras.callbacks.EarlyStopping(patience=10, restore_best_weights=True, verbose=1)\n",
        "callbacks.append(early_stop_callback)\n",
        "\n",
        "history = model.fit(train_generator,\n",
        "                              validation_data=validation_generator,\n",
        "                              steps_per_epoch=30,\n",
        "                              epochs=50,\n",
        "                              validation_steps=15,\n",
        "                              verbose=1,\n",
        "                              callbacks=callbacks)"
      ],
      "metadata": {
        "colab": {
          "base_uri": "https://localhost:8080/"
        },
        "id": "AT5zjlaF3fNs",
        "outputId": "2773c2dc-ab46-4c40-c869-2870778d8c53"
      },
      "execution_count": 28,
      "outputs": [
        {
          "output_type": "stream",
          "name": "stdout",
          "text": [
            "Epoch 1/50\n",
            "30/30 [==============================] - ETA: 0s - loss: 0.0145 - accuracy: 0.9959\n",
            "Epoch 00001: val_loss improved from inf to 1.07050, saving model to best_weights.hdf5\n",
            "30/30 [==============================] - 3s 85ms/step - loss: 0.0145 - accuracy: 0.9959 - val_loss: 1.0705 - val_accuracy: 0.9140\n",
            "Epoch 2/50\n",
            "30/30 [==============================] - ETA: 0s - loss: 0.0482 - accuracy: 0.9922\n",
            "Epoch 00002: val_loss improved from 1.07050 to 0.97381, saving model to best_weights.hdf5\n",
            "30/30 [==============================] - 2s 78ms/step - loss: 0.0482 - accuracy: 0.9922 - val_loss: 0.9738 - val_accuracy: 0.9140\n",
            "Epoch 3/50\n",
            "30/30 [==============================] - ETA: 0s - loss: 0.0016 - accuracy: 0.9993\n",
            "Epoch 00003: val_loss did not improve from 0.97381\n",
            "30/30 [==============================] - 2s 78ms/step - loss: 0.0016 - accuracy: 0.9993 - val_loss: 0.9975 - val_accuracy: 0.9253\n",
            "Epoch 4/50\n",
            "30/30 [==============================] - ETA: 0s - loss: 0.0339 - accuracy: 0.9956\n",
            "Epoch 00004: val_loss did not improve from 0.97381\n",
            "30/30 [==============================] - 3s 84ms/step - loss: 0.0339 - accuracy: 0.9956 - val_loss: 0.9773 - val_accuracy: 0.9200\n",
            "Epoch 5/50\n",
            "30/30 [==============================] - ETA: 0s - loss: 0.0213 - accuracy: 0.9966\n",
            "Epoch 00005: val_loss improved from 0.97381 to 0.84806, saving model to best_weights.hdf5\n",
            "30/30 [==============================] - 3s 85ms/step - loss: 0.0213 - accuracy: 0.9966 - val_loss: 0.8481 - val_accuracy: 0.9320\n",
            "Epoch 6/50\n",
            "30/30 [==============================] - ETA: 0s - loss: 0.0110 - accuracy: 0.9980\n",
            "Epoch 00006: val_loss did not improve from 0.84806\n",
            "30/30 [==============================] - 2s 78ms/step - loss: 0.0110 - accuracy: 0.9980 - val_loss: 1.2915 - val_accuracy: 0.8940\n",
            "Epoch 7/50\n",
            "30/30 [==============================] - ETA: 0s - loss: 0.0162 - accuracy: 0.9949\n",
            "Epoch 00007: val_loss did not improve from 0.84806\n",
            "30/30 [==============================] - 2s 78ms/step - loss: 0.0162 - accuracy: 0.9949 - val_loss: 1.3766 - val_accuracy: 0.8960\n",
            "Epoch 8/50\n",
            "30/30 [==============================] - ETA: 0s - loss: 0.0259 - accuracy: 0.9959\n",
            "Epoch 00008: val_loss did not improve from 0.84806\n",
            "30/30 [==============================] - 2s 83ms/step - loss: 0.0259 - accuracy: 0.9959 - val_loss: 0.9312 - val_accuracy: 0.9353\n",
            "Epoch 9/50\n",
            "30/30 [==============================] - ETA: 0s - loss: 9.8559e-05 - accuracy: 1.0000\n",
            "Epoch 00009: val_loss did not improve from 0.84806\n",
            "30/30 [==============================] - 2s 83ms/step - loss: 9.8559e-05 - accuracy: 1.0000 - val_loss: 0.9815 - val_accuracy: 0.9307\n",
            "Epoch 10/50\n",
            "30/30 [==============================] - ETA: 0s - loss: 0.2046 - accuracy: 0.9922\n",
            "Epoch 00010: val_loss did not improve from 0.84806\n",
            "30/30 [==============================] - 2s 83ms/step - loss: 0.2046 - accuracy: 0.9922 - val_loss: 1.0080 - val_accuracy: 0.9360\n",
            "Epoch 11/50\n",
            "30/30 [==============================] - ETA: 0s - loss: 0.0168 - accuracy: 0.9956\n",
            "Epoch 00011: val_loss improved from 0.84806 to 0.78814, saving model to best_weights.hdf5\n",
            "30/30 [==============================] - 2s 78ms/step - loss: 0.0168 - accuracy: 0.9956 - val_loss: 0.7881 - val_accuracy: 0.9400\n",
            "Epoch 12/50\n",
            "30/30 [==============================] - ETA: 0s - loss: 3.9601e-04 - accuracy: 1.0000\n",
            "Epoch 00012: val_loss did not improve from 0.78814\n",
            "30/30 [==============================] - 3s 84ms/step - loss: 3.9601e-04 - accuracy: 1.0000 - val_loss: 0.9871 - val_accuracy: 0.9327\n",
            "Epoch 13/50\n",
            "30/30 [==============================] - ETA: 0s - loss: 0.0876 - accuracy: 0.9929\n",
            "Epoch 00013: val_loss did not improve from 0.78814\n",
            "30/30 [==============================] - 3s 84ms/step - loss: 0.0876 - accuracy: 0.9929 - val_loss: 1.4295 - val_accuracy: 0.9193\n",
            "Epoch 14/50\n",
            "30/30 [==============================] - ETA: 0s - loss: 0.0046 - accuracy: 0.9993\n",
            "Epoch 00014: val_loss did not improve from 0.78814\n",
            "30/30 [==============================] - 2s 83ms/step - loss: 0.0046 - accuracy: 0.9993 - val_loss: 0.8156 - val_accuracy: 0.9360\n",
            "Epoch 15/50\n",
            "30/30 [==============================] - ETA: 0s - loss: 0.0406 - accuracy: 0.9953\n",
            "Epoch 00015: val_loss did not improve from 0.78814\n",
            "30/30 [==============================] - 2s 83ms/step - loss: 0.0406 - accuracy: 0.9953 - val_loss: 1.3777 - val_accuracy: 0.9153\n",
            "Epoch 16/50\n",
            "30/30 [==============================] - ETA: 0s - loss: 0.0038 - accuracy: 0.9997\n",
            "Epoch 00016: val_loss did not improve from 0.78814\n",
            "30/30 [==============================] - 3s 84ms/step - loss: 0.0038 - accuracy: 0.9997 - val_loss: 0.9848 - val_accuracy: 0.9353\n",
            "Epoch 17/50\n",
            "30/30 [==============================] - ETA: 0s - loss: 1.3579e-05 - accuracy: 1.0000\n",
            "Epoch 00017: val_loss did not improve from 0.78814\n",
            "30/30 [==============================] - 3s 85ms/step - loss: 1.3579e-05 - accuracy: 1.0000 - val_loss: 1.0087 - val_accuracy: 0.9353\n",
            "Epoch 18/50\n",
            "30/30 [==============================] - ETA: 0s - loss: 4.9999e-06 - accuracy: 1.0000\n",
            "Epoch 00018: val_loss did not improve from 0.78814\n",
            "30/30 [==============================] - 3s 84ms/step - loss: 4.9999e-06 - accuracy: 1.0000 - val_loss: 0.9126 - val_accuracy: 0.9427\n",
            "Epoch 19/50\n",
            "30/30 [==============================] - ETA: 0s - loss: 0.0279 - accuracy: 0.9973\n",
            "Epoch 00019: val_loss did not improve from 0.78814\n",
            "30/30 [==============================] - 3s 84ms/step - loss: 0.0279 - accuracy: 0.9973 - val_loss: 1.0753 - val_accuracy: 0.9320\n",
            "Epoch 20/50\n",
            "30/30 [==============================] - ETA: 0s - loss: 0.0540 - accuracy: 0.9942\n",
            "Epoch 00020: val_loss did not improve from 0.78814\n",
            "30/30 [==============================] - 2s 78ms/step - loss: 0.0540 - accuracy: 0.9942 - val_loss: 1.3852 - val_accuracy: 0.9200\n",
            "Epoch 21/50\n",
            "30/30 [==============================] - ETA: 0s - loss: 0.0110 - accuracy: 0.9983\n",
            "Epoch 00021: val_loss did not improve from 0.78814\n",
            "Restoring model weights from the end of the best epoch: 11.\n",
            "30/30 [==============================] - 3s 84ms/step - loss: 0.0110 - accuracy: 0.9983 - val_loss: 1.1367 - val_accuracy: 0.9353\n",
            "Epoch 00021: early stopping\n"
          ]
        }
      ]
    },
    {
      "cell_type": "code",
      "source": [
        "test_datagen  = ImageDataGenerator()\n",
        "test_dir = os.path.join(base_dir, 'imagedb_test')\n",
        "test_generator =  test_datagen.flow_from_directory(test_dir,\n",
        "                                                         batch_size=10,\n",
        "                                                         class_mode  = 'categorical',\n",
        "                                                         color_mode='grayscale',\n",
        "                                                         target_size=(28,28)) \n",
        "loss, acc = model.evaluate(test_generator)\n"
      ],
      "metadata": {
        "colab": {
          "base_uri": "https://localhost:8080/"
        },
        "id": "bFfu1kPc9RVB",
        "outputId": "f5285bfe-9f75-4733-c3a9-53930c7814e0"
      },
      "execution_count": 29,
      "outputs": [
        {
          "output_type": "stream",
          "name": "stdout",
          "text": [
            "Found 2149 images belonging to 34 classes.\n",
            "215/215 [==============================] - 1s 5ms/step - loss: 0.8990 - accuracy: 0.9325\n"
          ]
        }
      ]
    }
  ]
}